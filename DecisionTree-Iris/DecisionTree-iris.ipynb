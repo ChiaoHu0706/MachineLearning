{
  "nbformat": 4,
  "nbformat_minor": 0,
  "metadata": {
    "colab": {
      "private_outputs": true,
      "provenance": []
    },
    "kernelspec": {
      "name": "python3",
      "display_name": "Python 3"
    },
    "language_info": {
      "name": "python"
    }
  },
  "cells": [
    {
      "cell_type": "code",
      "execution_count": null,
      "metadata": {
        "id": "y83gXS2aX_Zf"
      },
      "outputs": [],
      "source": [
        "from sklearn import tree  # 匯入決策樹分類器\n",
        "from sklearn.datasets import load_iris  # 匯入鳶尾花資料\n",
        "from sklearn.model_selection import train_test_split  # 匯入資料切分函式\n",
        "\n",
        "# 讀入鳶尾花資料\n",
        "iris = load_iris()  # 載入鳶尾花資料\n",
        "iris_data = iris.data  # 提取特徵資料\n",
        "iris_label = iris.target  # 提取標籤資料\n",
        "\n",
        "# 切分訓練與測試資料\n",
        "train_data, test_data, train_label, test_label = train_test_split(iris_data, iris_label, test_size=0.3)  # 切分資料集為訓練資料和測試資料\n",
        "\n",
        "# 建立決策樹分類器\n",
        "clf = tree.DecisionTreeClassifier()  # 建立決策樹分類器\n",
        "iris_clf = clf.fit(train_data, train_label)  # 使用訓練資料訓練分類器模型\n",
        "\n",
        "# 評估模型\n",
        "print(\"訓練資料正確率:\", clf.score(train_data, train_label))  # 列印訓練資料的預測準確率\n",
        "print(\"測試資料正確率:\", clf.score(test_data, test_label))  # 列印測試資料的預測準確率\n",
        "\n",
        "# 進行預測\n",
        "predict = clf.predict(test_data)  # 使用測試資料進行預測\n",
        "print(\"標準答案:\", test_label)  # 列印測試資料的標準答案\n",
        "print(\"預測答案:\", predict)  # 列印預測結果\n"
      ]
    },
    {
      "cell_type": "code",
      "source": [
        "import graphviz #匯入圖片函式\n",
        "# 繪製決策樹並存儲成PDF\n",
        "dot_data = tree.export_graphviz(clf, out_file=None)  # 將決策樹轉換成DOT格式的資料\n",
        "graph = graphviz.Source(dot_data)  # 建立圖形物件\n",
        "graph.render(\"iris\")  # 將決策樹存儲成PDF格式，檔案名稱為\"iris\""
      ],
      "metadata": {
        "id": "T5EfZAc5YKRv"
      },
      "execution_count": null,
      "outputs": []
    },
    {
      "cell_type": "code",
      "source": [
        "import pydotplus # 匯入用於繪製決策樹的模組\n",
        "from IPython.display import Image # 匯入用於在Jupyter Notebook中顯示圖片的模組\n",
        "# 將決策樹視覺化並顯示在Jupyter Notebook中\n",
        "dot_data = tree.export_graphviz(clf, out_file=None,\n",
        "                                feature_names=iris.feature_names,\n",
        "                                class_names=iris.target_names,\n",
        "                                filled=True, rounded=True,\n",
        "                                special_characters=True)  # 將決策樹轉換成DOT格式的資料\n",
        "graph = pydotplus.graph_from_dot_data(dot_data)  # 建立圖形物件\n",
        "Image(graph.create_png())  # 將圖形顯示在Jupyter Notebook中\n"
      ],
      "metadata": {
        "id": "GWDgjKMpYP8f"
      },
      "execution_count": null,
      "outputs": []
    }
  ]
}