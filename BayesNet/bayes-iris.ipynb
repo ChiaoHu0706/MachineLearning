{
  "nbformat": 4,
  "nbformat_minor": 0,
  "metadata": {
    "colab": {
      "private_outputs": true,
      "provenance": []
    },
    "kernelspec": {
      "name": "python3",
      "display_name": "Python 3"
    },
    "language_info": {
      "name": "python"
    }
  },
  "cells": [
    {
      "cell_type": "code",
      "execution_count": null,
      "metadata": {
        "id": "w9OmOcV9QTk6"
      },
      "outputs": [],
      "source": [
        "from sklearn import datasets  # 匯入資料\n",
        "from sklearn.naive_bayes import GaussianNB  # 匯入高斯朴素貝葉斯模型\n",
        "from sklearn.model_selection import train_test_split  # 匯入資料集切分函式\n",
        "\n",
        "# 載入鳶尾花資料\n",
        "iris = datasets.load_iris()\n",
        "\n",
        "# 提取特徵資料與標籤資料\n",
        "x = iris.data  # 特徵資料\n",
        "y = iris.target  # 標籤資料\n",
        "\n",
        "# 切分訓練資料和測試資料\n",
        "train_data, test_data, train_label, test_label = train_test_split(x, y, test_size=0.3, random_state=0)\n",
        "\n",
        "# 建立高斯朴素貝葉斯分類器\n",
        "clf = GaussianNB()\n",
        "\n",
        "# 使用訓練資料訓練模型\n",
        "clf.fit(train_data, train_label)\n",
        "\n",
        "# 評估模型\n",
        "print(\"訓練資料正確率:\", clf.score(train_data, train_label))  # 訓練資料正確率\n",
        "print(\"測試資料正確率:\", clf.score(test_data, test_label))  # 測試資料正確率\n",
        "\n",
        "# 進行預測\n",
        "predict = clf.predict(test_data)  # 預測測試資料\n",
        "print(\"標準答案:\", test_label)  # 標準答案\n",
        "print(\"預測答案:\", predict)  # 預測答案\n"
      ]
    }
  ]
}