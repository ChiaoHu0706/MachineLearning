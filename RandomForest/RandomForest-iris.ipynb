{
  "nbformat": 4,
  "nbformat_minor": 0,
  "metadata": {
    "colab": {
      "private_outputs": true,
      "provenance": []
    },
    "kernelspec": {
      "name": "python3",
      "display_name": "Python 3"
    },
    "language_info": {
      "name": "python"
    }
  },
  "cells": [
    {
      "cell_type": "code",
      "execution_count": null,
      "metadata": {
        "id": "qgACi5ewQ2e6"
      },
      "outputs": [],
      "source": [
        "# 匯入需要的模組\n",
        "from sklearn.ensemble import RandomForestClassifier  # 隨機森林分類器\n",
        "from sklearn.datasets import load_iris  # 匯入鳶尾花資料\n",
        "from sklearn.model_selection import train_test_split  # 匯入資料切分函式\n",
        "\n",
        "# 讀入鳶尾花資料\n",
        "iris = load_iris()  # 載入鳶尾花資料\n",
        "iris_data = iris.data  # 提取特徵資料\n",
        "iris_label = iris.target  # 提取標籤資料\n",
        "\n",
        "# 切分訓練與測試資料\n",
        "train_data, test_data, train_label, test_label = train_test_split(iris_data, iris_label, test_size=0.3)  # 切分資料集為訓練資料和測試資料\n",
        "\n",
        "# 建立隨機森林分類器\n",
        "clf = RandomForestClassifier(n_estimators=100, max_depth=5)  # 建立有100棵樹且每棵樹最大深度為5的隨機森林分類器\n",
        "iris_clf = clf.fit(train_data, train_label)  # 使用訓練資料訓練分類器模型\n",
        "\n",
        "# 評估模型\n",
        "print(\"訓練資料正確率:\", clf.score(train_data, train_label))  # 列印訓練資料的預測準確率\n",
        "print(\"測試資料正確率:\", clf.score(test_data, test_label))  # 列印測試資料的預測準確率\n",
        "\n",
        "# 進行預測\n",
        "predict = clf.predict(test_data)  # 使用測試資料進行預測\n",
        "print(\"標準答案:\", test_label)  # 列印測試資料的標準答案\n",
        "print(\"預測答案:\", predict)  # 列印預測結果"
      ]
    }
  ]
}